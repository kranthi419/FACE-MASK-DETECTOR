{
 "cells": [
  {
   "cell_type": "markdown",
   "metadata": {},
   "source": [
    "## LOADING LIBRARIES"
   ]
  },
  {
   "cell_type": "code",
   "execution_count": 2,
   "metadata": {},
   "outputs": [],
   "source": [
    "from tensorflow.keras.preprocessing.image import ImageDataGenerator\n",
    "from tensorflow.keras.applications import MobileNet\n",
    "from tensorflow.keras.layers import AveragePooling2D\n",
    "from tensorflow.keras.layers import Dropout\n",
    "from tensorflow.keras.layers import Flatten\n",
    "from tensorflow.keras.layers import Dense\n",
    "from tensorflow.keras.layers import Input\n",
    "from tensorflow.keras.models import Model\n",
    "from tensorflow.keras.optimizers import Adam\n",
    "from tensorflow.keras.applications.mobilenet_v2 import preprocess_input\n",
    "from tensorflow.keras.preprocessing.image import img_to_array\n",
    "from tensorflow.keras.preprocessing.image import load_img\n",
    "from tensorflow.keras.utils import to_categorical\n",
    "from sklearn.preprocessing import LabelBinarizer\n",
    "from sklearn.model_selection import train_test_split\n",
    "from sklearn.metrics import classification_report\n",
    "from imutils import paths\n",
    "import matplotlib.pyplot as plt\n",
    "import numpy as np\n",
    "import argparse\n",
    "import os"
   ]
  },
  {
   "cell_type": "markdown",
   "metadata": {},
   "source": [
    "## SPECIFY THE PATH OF DATA"
   ]
  },
  {
   "cell_type": "code",
   "execution_count": 3,
   "metadata": {},
   "outputs": [],
   "source": [
    "imagePaths = list(paths.list_images(\"dataset\")) \n",
    "data = []\n",
    "labels = []"
   ]
  },
  {
   "cell_type": "markdown",
   "metadata": {},
   "source": [
    "## LOADING THE DATA"
   ]
  },
  {
   "cell_type": "code",
   "execution_count": 4,
   "metadata": {},
   "outputs": [
    {
     "name": "stderr",
     "output_type": "stream",
     "text": [
      "E:\\anaconda\\envs\\datasci\\lib\\site-packages\\PIL\\Image.py:961: UserWarning: Palette images with Transparency expressed in bytes should be converted to RGBA images\n",
      "  \"Palette images with Transparency expressed in bytes should be \"\n"
     ]
    }
   ],
   "source": [
    "for imagePath in imagePaths:\n",
    "\t# extract the class label from the filename\n",
    "\tlabel = imagePath.split(os.path.sep)[-2]\n",
    "\n",
    "\t# load the input image (224x224) and preprocess it\n",
    "\timage = load_img(imagePath, target_size=(224, 224))\n",
    "\timage = img_to_array(image)\n",
    "\timage = preprocess_input(image)\n",
    "\n",
    "\t# update the data and labels lists, respectively\n",
    "\tdata.append(image)\n",
    "\tlabels.append(label)\n"
   ]
  },
  {
   "cell_type": "markdown",
   "metadata": {},
   "source": [
    "## ENCODING THE LABEL FROM STRINGS TO INTEGERS"
   ]
  },
  {
   "cell_type": "code",
   "execution_count": 5,
   "metadata": {},
   "outputs": [],
   "source": [
    "data = np.array(data, dtype=\"float32\")\n",
    "labels = np.array(labels)\n",
    "\n",
    "# perform one-hot encoding on the labels\n",
    "lb = LabelBinarizer()\n",
    "labels = lb.fit_transform(labels)\n",
    "labels = to_categorical(labels)"
   ]
  },
  {
   "cell_type": "markdown",
   "metadata": {},
   "source": [
    "## SPLITTING THE DATA INTO TRAINING AND TESTING "
   ]
  },
  {
   "cell_type": "code",
   "execution_count": 6,
   "metadata": {},
   "outputs": [],
   "source": [
    "(trainX, testX, trainY, testY) = train_test_split(data, labels,test_size=0.20, stratify=labels, random_state=42)"
   ]
  },
  {
   "cell_type": "markdown",
   "metadata": {},
   "source": [
    "## IMPLEMENT DATA AUGMENTATION"
   ]
  },
  {
   "cell_type": "code",
   "execution_count": 7,
   "metadata": {},
   "outputs": [],
   "source": [
    "aug = ImageDataGenerator(\n",
    "\trotation_range=20,\n",
    "\tzoom_range=0.15,\n",
    "\twidth_shift_range=0.2,\n",
    "\theight_shift_range=0.2,\n",
    "\tshear_range=0.15,\n",
    "\thorizontal_flip=True,\n",
    "\tfill_mode=\"nearest\")\n"
   ]
  },
  {
   "cell_type": "markdown",
   "metadata": {},
   "source": [
    "## IMPORTING THE PRETRAINED ARCHITECTURE"
   ]
  },
  {
   "cell_type": "code",
   "execution_count": 8,
   "metadata": {},
   "outputs": [],
   "source": [
    "baseModel = MobileNet(weights=\"imagenet\", include_top=False,input_shape=(224, 224, 3))"
   ]
  },
  {
   "cell_type": "code",
   "execution_count": 9,
   "metadata": {},
   "outputs": [],
   "source": [
    "headModel = baseModel.output\n",
    "headModel = AveragePooling2D(pool_size=(7, 7))(headModel)\n",
    "headModel = Flatten(name=\"flatten\")(headModel)\n",
    "headModel = Dense(128, activation=\"relu\")(headModel)\n",
    "headModel = Dropout(0.5)(headModel)\n",
    "headModel = Dense(2, activation=\"softmax\")(headModel)"
   ]
  },
  {
   "cell_type": "code",
   "execution_count": 10,
   "metadata": {},
   "outputs": [],
   "source": [
    "model = Model(inputs=baseModel.input, outputs=headModel)"
   ]
  },
  {
   "cell_type": "code",
   "execution_count": 11,
   "metadata": {},
   "outputs": [],
   "source": [
    "for layer in baseModel.layers: #Untrained the trainable parameters to untrain because to train the parameters on our data.\n",
    "\tlayer.trainable = False"
   ]
  },
  {
   "cell_type": "code",
   "execution_count": 12,
   "metadata": {},
   "outputs": [],
   "source": [
    "INIT_LR = 1e-4\n",
    "EPOCHS = 20\n",
    "BS = 32\n",
    "opt = Adam(lr=INIT_LR, decay=INIT_LR / EPOCHS)\n",
    "model.compile(loss=\"binary_crossentropy\", optimizer=opt,metrics=[\"accuracy\"])"
   ]
  },
  {
   "cell_type": "markdown",
   "metadata": {},
   "source": [
    "## TRAINING THE MODEL"
   ]
  },
  {
   "cell_type": "code",
   "execution_count": 13,
   "metadata": {},
   "outputs": [
    {
     "name": "stdout",
     "output_type": "stream",
     "text": [
      "[INFO] training head...\n",
      "WARNING:tensorflow:sample_weight modes were coerced from\n",
      "  ...\n",
      "    to  \n",
      "  ['...']\n",
      "Train for 113 steps, validate on 905 samples\n",
      "Epoch 1/20\n",
      "113/113 [==============================] - 117s 1s/step - loss: 0.4982 - accuracy: 0.7732 - val_loss: 0.2632 - val_accuracy: 0.9051\n",
      "Epoch 2/20\n",
      "113/113 [==============================] - 86s 764ms/step - loss: 0.2206 - accuracy: 0.9222 - val_loss: 0.1688 - val_accuracy: 0.9364\n",
      "Epoch 3/20\n",
      "113/113 [==============================] - 87s 772ms/step - loss: 0.1595 - accuracy: 0.9386 - val_loss: 0.1061 - val_accuracy: 0.9621\n",
      "Epoch 4/20\n",
      "113/113 [==============================] - 87s 766ms/step - loss: 0.1395 - accuracy: 0.9453 - val_loss: 0.1857 - val_accuracy: 0.9208\n",
      "Epoch 5/20\n",
      "113/113 [==============================] - 86s 762ms/step - loss: 0.1265 - accuracy: 0.9576 - val_loss: 0.1827 - val_accuracy: 0.9241\n",
      "Epoch 6/20\n",
      "113/113 [==============================] - 87s 770ms/step - loss: 0.1116 - accuracy: 0.9665 - val_loss: 0.2035 - val_accuracy: 0.9129\n",
      "Epoch 7/20\n",
      "113/113 [==============================] - 86s 763ms/step - loss: 0.1108 - accuracy: 0.9665 - val_loss: 0.1360 - val_accuracy: 0.9464\n",
      "Epoch 8/20\n",
      "113/113 [==============================] - 86s 758ms/step - loss: 0.0978 - accuracy: 0.9671 - val_loss: 0.1406 - val_accuracy: 0.9442\n",
      "Epoch 9/20\n",
      "113/113 [==============================] - 87s 767ms/step - loss: 0.0962 - accuracy: 0.9674 - val_loss: 0.0872 - val_accuracy: 0.9699\n",
      "Epoch 10/20\n",
      "113/113 [==============================] - 86s 765ms/step - loss: 0.0878 - accuracy: 0.9727 - val_loss: 0.0664 - val_accuracy: 0.9777\n",
      "Epoch 11/20\n",
      "113/113 [==============================] - 86s 762ms/step - loss: 0.0912 - accuracy: 0.9710 - val_loss: 0.0934 - val_accuracy: 0.9688\n",
      "Epoch 12/20\n",
      "113/113 [==============================] - 86s 762ms/step - loss: 0.0783 - accuracy: 0.9757 - val_loss: 0.0772 - val_accuracy: 0.9710\n",
      "Epoch 13/20\n",
      "113/113 [==============================] - 87s 771ms/step - loss: 0.0883 - accuracy: 0.9738 - val_loss: 0.1499 - val_accuracy: 0.9386\n",
      "Epoch 14/20\n",
      "113/113 [==============================] - 86s 765ms/step - loss: 0.0895 - accuracy: 0.9707 - val_loss: 0.0783 - val_accuracy: 0.9754\n",
      "Epoch 15/20\n",
      "113/113 [==============================] - 86s 762ms/step - loss: 0.0963 - accuracy: 0.9710 - val_loss: 0.0917 - val_accuracy: 0.9688\n",
      "Epoch 16/20\n",
      "113/113 [==============================] - 86s 762ms/step - loss: 0.0903 - accuracy: 0.9771 - val_loss: 0.0770 - val_accuracy: 0.9743\n",
      "Epoch 17/20\n",
      "113/113 [==============================] - 86s 760ms/step - loss: 0.0872 - accuracy: 0.9713 - val_loss: 0.0586 - val_accuracy: 0.9855\n",
      "Epoch 18/20\n",
      "113/113 [==============================] - 86s 759ms/step - loss: 0.0801 - accuracy: 0.9727 - val_loss: 0.0685 - val_accuracy: 0.9777\n",
      "Epoch 19/20\n",
      "113/113 [==============================] - 86s 761ms/step - loss: 0.0807 - accuracy: 0.9771 - val_loss: 0.1731 - val_accuracy: 0.9375\n",
      "Epoch 20/20\n",
      "113/113 [==============================] - 86s 765ms/step - loss: 0.0685 - accuracy: 0.9755 - val_loss: 0.1137 - val_accuracy: 0.9565\n"
     ]
    }
   ],
   "source": [
    "print(\"[INFO] training head...\")\n",
    "H = model.fit(\n",
    "\taug.flow(trainX, trainY, batch_size=BS),\n",
    "\tsteps_per_epoch=len(trainX) // BS,\n",
    "\tvalidation_data=(testX, testY),\n",
    "\tvalidation_steps=len(testX) // BS,\n",
    "\tepochs=EPOCHS)\n"
   ]
  },
  {
   "cell_type": "markdown",
   "metadata": {},
   "source": [
    "## SAVE THE MODEL AND USE IT IN FACE-MASK-DECTECTOR"
   ]
  },
  {
   "cell_type": "code",
   "execution_count": 14,
   "metadata": {},
   "outputs": [],
   "source": [
    "model.save('pretrained model.h5') #SAVE THE MODEL"
   ]
  },
  {
   "cell_type": "code",
   "execution_count": 15,
   "metadata": {},
   "outputs": [],
   "source": [
    "predIdxs = model.predict(testX, batch_size=BS)"
   ]
  },
  {
   "cell_type": "code",
   "execution_count": 16,
   "metadata": {},
   "outputs": [],
   "source": [
    "predIdxs = np.argmax(predIdxs, axis=1)"
   ]
  },
  {
   "cell_type": "code",
   "execution_count": 17,
   "metadata": {},
   "outputs": [
    {
     "name": "stdout",
     "output_type": "stream",
     "text": [
      "              precision    recall  f1-score   support\n",
      "\n",
      "   with_mask       1.00      0.93      0.96       521\n",
      "without_mask       0.91      1.00      0.95       384\n",
      "\n",
      "    accuracy                           0.96       905\n",
      "   macro avg       0.95      0.96      0.96       905\n",
      "weighted avg       0.96      0.96      0.96       905\n",
      "\n"
     ]
    }
   ],
   "source": [
    "print(classification_report(testY.argmax(axis=1), predIdxs,\n",
    "\ttarget_names=lb.classes_))"
   ]
  },
  {
   "cell_type": "code",
   "execution_count": 18,
   "metadata": {},
   "outputs": [
    {
     "data": {
      "text/plain": [
       "<matplotlib.legend.Legend at 0x2625c1e6588>"
      ]
     },
     "execution_count": 18,
     "metadata": {},
     "output_type": "execute_result"
    },
    {
     "data": {
      "image/png": "[encoded data removed]",
      "text/plain": [
       "<Figure size 432x288 with 1 Axes>"
      ]
     },
     "metadata": {},
     "output_type": "display_data"
    }
   ],
   "source": [
    "N = EPOCHS\n",
    "plt.style.use(\"ggplot\")\n",
    "plt.figure()\n",
    "plt.plot(np.arange(0, N), H.history[\"loss\"], label=\"train_loss\")\n",
    "plt.plot(np.arange(0, N), H.history[\"val_loss\"], label=\"val_loss\")\n",
    "plt.plot(np.arange(0, N), H.history[\"accuracy\"], label=\"train_acc\")\n",
    "plt.plot(np.arange(0, N), H.history[\"val_accuracy\"], label=\"val_acc\")\n",
    "plt.title(\"Training Loss and Accuracy\")\n",
    "plt.xlabel(\"Epoch #\")\n",
    "plt.ylabel(\"Loss/Accuracy\")\n",
    "plt.legend(loc=\"lower left\")"
   ]
  },
  {
   "cell_type": "markdown",
   "metadata": {},
   "source": [
    "## U CAN USE ANY ARCHITECTURE TO TRAIN BUT MAKE SURE OF GOOD ACCURACY."
   ]
  }
 ],
 "metadata": {
  "kernelspec": {
   "display_name": "Python 3",
   "language": "python",
   "name": "python3"
  },
  "language_info": {
   "codemirror_mode": {
    "name": "ipython",
    "version": 3
   },
   "file_extension": ".py",
   "mimetype": "text/x-python",
   "name": "python",
   "nbconvert_exporter": "python",
   "pygments_lexer": "ipython3",
   "version": "3.7.7"
  }
 },
 "nbformat": 4,
 "nbformat_minor": 4
}
